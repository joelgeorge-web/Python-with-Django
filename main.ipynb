{
 "cells": [
  {
   "cell_type": "code",
   "execution_count": 1,
   "metadata": {},
   "outputs": [
    {
     "name": "stdout",
     "output_type": "stream",
     "text": [
      "Enter your mark: 25\n",
      "E\n"
     ]
    }
   ],
   "source": [
    "mark=int(input('Enter your mark: '))\n",
    "if mark>=80:\n",
    "    print('A')\n",
    "elif mark>=60 and mark<80:\n",
    "    print('B')\n",
    "elif mark>=50 and mark<60:\n",
    "    print('C')\n",
    "elif mark>=45 and mark<50:\n",
    "    print('D')\n",
    "elif mark>=25 and mark<45:\n",
    "    print('E')\n",
    "else:\n",
    "    print('F')"
   ]
  }
 ],
 "metadata": {
  "kernelspec": {
   "display_name": "Python 3 (ipykernel)",
   "language": "python",
   "name": "python3"
  },
  "language_info": {
   "codemirror_mode": {
    "name": "ipython",
    "version": 3
   },
   "file_extension": ".py",
   "mimetype": "text/x-python",
   "name": "python",
   "nbconvert_exporter": "python",
   "pygments_lexer": "ipython3",
   "version": "3.11.4"
  }
 },
 "nbformat": 4,
 "nbformat_minor": 2
}
